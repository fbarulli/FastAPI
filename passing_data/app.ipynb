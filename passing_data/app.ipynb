{
 "cells": [
  {
   "cell_type": "code",
   "execution_count": 5,
   "metadata": {},
   "outputs": [],
   "source": [
    "users_db = [\n",
    "    {\n",
    "        'user_id': 1,\n",
    "        'name': 'Alice',\n",
    "        'subscription': 'free tier'\n",
    "    },\n",
    "    {\n",
    "        'user_id': 2,\n",
    "        'name': 'Bob',\n",
    "        'subscription': 'premium tier'\n",
    "    },\n",
    "    {\n",
    "        'user_id': 3,\n",
    "        'name': 'Clementine',\n",
    "        'subscription': 'free tier'\n",
    "    }\n",
    "]"
   ]
  },
  {
   "cell_type": "code",
   "execution_count": null,
   "metadata": {},
   "outputs": [
    {
     "data": {
      "text/plain": [
       "{'user_id': 2, 'name': 'Bob', 'subscription': 'premium tier'}"
      ]
     },
     "execution_count": 12,
     "metadata": {},
     "output_type": "execute_result"
    }
   ],
   "source": [
    "users_db"
   ]
  },
  {
   "cell_type": "code",
   "execution_count": 13,
   "metadata": {},
   "outputs": [
    {
     "data": {
      "text/plain": [
       "{'user_id': 1, 'name': 'Alice', 'subscription': 'free tier'}"
      ]
     },
     "execution_count": 13,
     "metadata": {},
     "output_type": "execute_result"
    }
   ],
   "source": [
    "def get_user_by_id(user_id: int):\n",
    "    \n",
    "    result = [user for user in users_db if user['user_id'] == user_id]\n",
    "    return result[0] if result else None  # Return the first match or None\n",
    "\n",
    "get_user_by_id(1)"
   ]
  },
  {
   "cell_type": "code",
   "execution_count": 10,
   "metadata": {},
   "outputs": [
    {
     "name": "stdout",
     "output_type": "stream",
     "text": [
      "HTTP/1.1 200 OK\n",
      "\u001b[1mdate\u001b[0m: Sat, 15 Mar 2025 20:31:36 GMT\n",
      "\u001b[1mserver\u001b[0m: uvicorn\n",
      "\u001b[1mcontent-length\u001b[0m: 55\n",
      "\u001b[1mcontent-type\u001b[0m: application/json\n",
      "\n",
      "{\"user_id\":1,\"name\":\"Alice\",\"subscription\":\"free tier\"}"
     ]
    }
   ],
   "source": [
    "!curl -X GET -i http://127.0.0.1:8000/user/1\n"
   ]
  },
  {
   "cell_type": "code",
   "execution_count": null,
   "metadata": {},
   "outputs": [],
   "source": []
  }
 ],
 "metadata": {
  "kernelspec": {
   "display_name": "fast",
   "language": "python",
   "name": "python3"
  },
  "language_info": {
   "codemirror_mode": {
    "name": "ipython",
    "version": 3
   },
   "file_extension": ".py",
   "mimetype": "text/x-python",
   "name": "python",
   "nbconvert_exporter": "python",
   "pygments_lexer": "ipython3",
   "version": "3.10.16"
  }
 },
 "nbformat": 4,
 "nbformat_minor": 2
}
