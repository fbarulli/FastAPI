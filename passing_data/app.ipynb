{
 "cells": [
  {
   "cell_type": "code",
   "execution_count": 26,
   "metadata": {},
   "outputs": [],
   "source": [
    "users_db = [\n",
    "    {\n",
    "        'user_id': 1,\n",
    "        'name': 'Alice',\n",
    "        'subscription': 'free tier'\n",
    "    },\n",
    "    {\n",
    "        'user_id': 2,\n",
    "        'name': 'Bob',\n",
    "        'subscription': 'premium tier'\n",
    "    },\n",
    "    {\n",
    "        'user_id': 3,\n",
    "        'name': 'Clementine',\n",
    "        'subscription': 'free tier'\n",
    "    }\n",
    "]"
   ]
  },
  {
   "cell_type": "code",
   "execution_count": 27,
   "metadata": {},
   "outputs": [
    {
     "data": {
      "text/plain": [
       "[{'user_id': 1, 'name': 'Alice', 'subscription': 'free tier'},\n",
       " {'user_id': 2, 'name': 'Bob', 'subscription': 'premium tier'},\n",
       " {'user_id': 3, 'name': 'Clementine', 'subscription': 'free tier'}]"
      ]
     },
     "execution_count": 27,
     "metadata": {},
     "output_type": "execute_result"
    }
   ],
   "source": [
    "users_db"
   ]
  },
  {
   "cell_type": "code",
   "execution_count": 29,
   "metadata": {},
   "outputs": [
    {
     "data": {
      "text/plain": [
       "'free tier'"
      ]
     },
     "execution_count": 29,
     "metadata": {},
     "output_type": "execute_result"
    }
   ],
   "source": [
    "def get_user_by_id(user_id: int):\n",
    "    \n",
    "    result = [user for user in users_db if user['user_id'] == user_id]\n",
    "    return result[0][\"subscription\"] if result else None  # Return the first match or None\n",
    "\n",
    "get_user_by_id(1)"
   ]
  },
  {
   "cell_type": "code",
   "execution_count": 16,
   "metadata": {},
   "outputs": [
    {
     "name": "stdout",
     "output_type": "stream",
     "text": [
      "HTTP/1.1 200 OK\n",
      "\u001b[1mdate\u001b[0m: Sat, 15 Mar 2025 20:40:47 GMT\n",
      "\u001b[1mserver\u001b[0m: uvicorn\n",
      "\u001b[1mcontent-length\u001b[0m: 55\n",
      "\u001b[1mcontent-type\u001b[0m: application/json\n",
      "\n",
      "{\"user_id\":1,\"name\":\"Alice\",\"subscription\":\"free tier\"}"
     ]
    }
   ],
   "source": [
    "!curl -X GET -i http://127.0.0.1:8000/user/1\n"
   ]
  },
  {
   "cell_type": "code",
   "execution_count": null,
   "metadata": {},
   "outputs": [
    {
     "name": "stdout",
     "output_type": "stream",
     "text": [
      "HTTP/1.1 200 OK\n",
      "\u001b[1mdate\u001b[0m: Sat, 15 Mar 2025 20:40:48 GMT\n",
      "\u001b[1mserver\u001b[0m: uvicorn\n",
      "\u001b[1mcontent-length\u001b[0m: 11\n",
      "\u001b[1mcontent-type\u001b[0m: application/json\n",
      "\n",
      "\"Hey loser\""
     ]
    }
   ],
   "source": [
    "!curl -X GET -i http://127.0.0.1:8000/\n"
   ]
  },
  {
   "cell_type": "code",
   "execution_count": 19,
   "metadata": {},
   "outputs": [
    {
     "name": "stdout",
     "output_type": "stream",
     "text": [
      "HTTP/1.1 200 OK\n",
      "\u001b[1mdate\u001b[0m: Sat, 15 Mar 2025 20:58:48 GMT\n",
      "\u001b[1mserver\u001b[0m: uvicorn\n",
      "\u001b[1mcontent-length\u001b[0m: 175\n",
      "\u001b[1mcontent-type\u001b[0m: application/json\n",
      "\n",
      "[{\"user_id\":1,\"name\":\"Alice\",\"subscription\":\"free tier\"},{\"user_id\":2,\"name\":\"Bob\",\"subscription\":\"premium tier\"},{\"user_id\":3,\"name\":\"Clementine\",\"subscription\":\"free tier\"}]"
     ]
    }
   ],
   "source": [
    "!curl -X GET -i http://127.0.0.1:8000/users\n"
   ]
  },
  {
   "cell_type": "code",
   "execution_count": 24,
   "metadata": {},
   "outputs": [
    {
     "name": "stdout",
     "output_type": "stream",
     "text": [
      "HTTP/1.1 200 OK\n",
      "\u001b[1mdate\u001b[0m: Sat, 15 Mar 2025 21:13:21 GMT\n",
      "\u001b[1mserver\u001b[0m: uvicorn\n",
      "\u001b[1mcontent-length\u001b[0m: 55\n",
      "\u001b[1mcontent-type\u001b[0m: application/json\n",
      "\n",
      "{\"user_id\":1,\"name\":\"Alice\",\"subscription\":\"free tier\"}"
     ]
    }
   ],
   "source": [
    "!curl -X GET -i 'http://127.0.0.1:8000/users/Alice'"
   ]
  },
  {
   "cell_type": "code",
   "execution_count": null,
   "metadata": {},
   "outputs": [
    {
     "name": "stdout",
     "output_type": "stream",
     "text": [
      "HTTP/1.1 200 OK\n",
      "\u001b[1mdate\u001b[0m: Sat, 15 Mar 2025 21:20:45 GMT\n",
      "\u001b[1mserver\u001b[0m: uvicorn\n",
      "\u001b[1mcontent-length\u001b[0m: 11\n",
      "\u001b[1mcontent-type\u001b[0m: application/json\n",
      "\n",
      "\"free tier\""
     ]
    }
   ],
   "source": [
    "!curl -X GET -i http://127.0.0.1:8000/user/1/subscription\n"
   ]
  },
  {
   "cell_type": "code",
   "execution_count": 36,
   "metadata": {},
   "outputs": [
    {
     "name": "stdout",
     "output_type": "stream",
     "text": [
      "HTTP/1.1 200 OK\n",
      "\u001b[1mdate\u001b[0m: Sat, 15 Mar 2025 21:35:49 GMT\n",
      "\u001b[1mserver\u001b[0m: uvicorn\n",
      "\u001b[1mcontent-length\u001b[0m: 21\n",
      "\u001b[1mcontent-type\u001b[0m: application/json\n",
      "\n",
      "{\"addition_result\":8}"
     ]
    }
   ],
   "source": [
    "!curl -X GET -i \"http://127.0.0.1:8000/addition?a=5&b=3\""
   ]
  },
  {
   "cell_type": "code",
   "execution_count": null,
   "metadata": {},
   "outputs": [],
   "source": []
  }
 ],
 "metadata": {
  "kernelspec": {
   "display_name": "fast",
   "language": "python",
   "name": "python3"
  },
  "language_info": {
   "codemirror_mode": {
    "name": "ipython",
    "version": 3
   },
   "file_extension": ".py",
   "mimetype": "text/x-python",
   "name": "python",
   "nbconvert_exporter": "python",
   "pygments_lexer": "ipython3",
   "version": "3.10.16"
  }
 },
 "nbformat": 4,
 "nbformat_minor": 2
}
