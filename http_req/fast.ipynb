{
 "cells": [
  {
   "cell_type": "code",
   "execution_count": 1,
   "metadata": {},
   "outputs": [],
   "source": [
    "#!uvicorn main:api --reload\n",
    "\n"
   ]
  },
  {
   "cell_type": "code",
   "execution_count": 4,
   "metadata": {},
   "outputs": [
    {
     "name": "stdout",
     "output_type": "stream",
     "text": [
      "HTTP/1.1 200 OK\n",
      "\u001b[1mdate\u001b[0m: Sat, 15 Mar 2025 16:01:01 GMT\n",
      "\u001b[1mserver\u001b[0m: uvicorn\n",
      "\u001b[1mcontent-length\u001b[0m: 22\n",
      "\u001b[1mcontent-type\u001b[0m: application/json\n",
      "\n",
      "{\"data\":\"hello world\"}"
     ]
    }
   ],
   "source": [
    "!curl -X GET -i http://127.0.0.1:8000/                     \n"
   ]
  },
  {
   "cell_type": "code",
   "execution_count": 6,
   "metadata": {},
   "outputs": [
    {
     "name": "stdout",
     "output_type": "stream",
     "text": [
      "HTTP/1.1 200 OK\n",
      "\u001b[1mdate\u001b[0m: Sat, 15 Mar 2025 16:01:22 GMT\n",
      "\u001b[1mserver\u001b[0m: uvicorn\n",
      "\u001b[1mcontent-length\u001b[0m: 32\n",
      "\u001b[1mcontent-type\u001b[0m: application/json\n",
      "\n",
      "{\"method\":\"post\",\"endpoint\":\"/\"}"
     ]
    }
   ],
   "source": [
    "!curl -X POST -i http://127.0.0.1:8000/                      \n",
    "\n"
   ]
  },
  {
   "cell_type": "code",
   "execution_count": 7,
   "metadata": {},
   "outputs": [
    {
     "name": "stdout",
     "output_type": "stream",
     "text": [
      "HTTP/1.1 200 OK\n",
      "\u001b[1mdate\u001b[0m: Sat, 15 Mar 2025 16:01:33 GMT\n",
      "\u001b[1mserver\u001b[0m: uvicorn\n",
      "\u001b[1mcontent-length\u001b[0m: 31\n",
      "\u001b[1mcontent-type\u001b[0m: application/json\n",
      "\n",
      "{\"method\":\"put\",\"endpoint\":\"/\"}"
     ]
    }
   ],
   "source": [
    "!curl -X PUT -i http://127.0.0.1:8000/                      \n"
   ]
  },
  {
   "cell_type": "code",
   "execution_count": 8,
   "metadata": {},
   "outputs": [
    {
     "name": "stdout",
     "output_type": "stream",
     "text": [
      "HTTP/1.1 200 OK\n",
      "\u001b[1mdate\u001b[0m: Sat, 15 Mar 2025 16:01:56 GMT\n",
      "\u001b[1mserver\u001b[0m: uvicorn\n",
      "\u001b[1mcontent-length\u001b[0m: 34\n",
      "\u001b[1mcontent-type\u001b[0m: application/json\n",
      "\n",
      "{\"method\":\"delete\",\"endpoint\":\"/\"}"
     ]
    }
   ],
   "source": [
    "!curl -X DELETE -i http://127.0.0.1:8000/                       \n"
   ]
  },
  {
   "cell_type": "code",
   "execution_count": 9,
   "metadata": {},
   "outputs": [
    {
     "name": "stdout",
     "output_type": "stream",
     "text": [
      "HTTP/1.1 200 OK\n",
      "\u001b[1mdate\u001b[0m: Sat, 15 Mar 2025 16:02:04 GMT\n",
      "\u001b[1mserver\u001b[0m: uvicorn\n",
      "\u001b[1mcontent-length\u001b[0m: 33\n",
      "\u001b[1mcontent-type\u001b[0m: application/json\n",
      "\n",
      "{\"method\":\"patch\",\"endpoint\":\"/\"}"
     ]
    }
   ],
   "source": [
    "!curl -X PATCH -i http://127.0.0.1:8000/                      \n"
   ]
  },
  {
   "cell_type": "code",
   "execution_count": 12,
   "metadata": {},
   "outputs": [
    {
     "name": "stdout",
     "output_type": "stream",
     "text": [
      "HTTP/1.1 200 OK\n",
      "\u001b[1mdate\u001b[0m: Sat, 15 Mar 2025 16:17:16 GMT\n",
      "\u001b[1mserver\u001b[0m: uvicorn\n",
      "\u001b[1mcontent-length\u001b[0m: 36\n",
      "\u001b[1mcontent-type\u001b[0m: application/json\n",
      "\n",
      "{\"method\":\"get\",\"endpoint\":\"/other\"}"
     ]
    }
   ],
   "source": [
    "!curl -X GET -i http://127.0.0.1:8000/other                           \n"
   ]
  },
  {
   "cell_type": "code",
   "execution_count": 13,
   "metadata": {},
   "outputs": [
    {
     "name": "stdout",
     "output_type": "stream",
     "text": [
      "HTTP/1.1 404 Not Found\n",
      "\u001b[1mdate\u001b[0m: Sat, 15 Mar 2025 16:19:26 GMT\n",
      "\u001b[1mserver\u001b[0m: uvicorn\n",
      "\u001b[1mcontent-length\u001b[0m: 22\n",
      "\u001b[1mcontent-type\u001b[0m: application/json\n",
      "\n",
      "{\"detail\":\"Not Found\"}"
     ]
    }
   ],
   "source": [
    "!curl -X GET -i http://127.0.0.1:8000/no_where                             \n"
   ]
  },
  {
   "cell_type": "code",
   "execution_count": 14,
   "metadata": {},
   "outputs": [
    {
     "name": "stdout",
     "output_type": "stream",
     "text": [
      "HTTP/1.1 200 OK\n",
      "\u001b[1mdate\u001b[0m: Sat, 15 Mar 2025 16:26:41 GMT\n",
      "\u001b[1mserver\u001b[0m: uvicorn\n",
      "\u001b[1mcontent-length\u001b[0m: 19\n",
      "\u001b[1mcontent-type\u001b[0m: application/json\n",
      "\n",
      "{\"route\":\"dynamic\"}"
     ]
    }
   ],
   "source": [
    "!curl -X GET -i http://127.0.0.1:8000/item/1\n"
   ]
  },
  {
   "cell_type": "code",
   "execution_count": 16,
   "metadata": {},
   "outputs": [
    {
     "name": "stdout",
     "output_type": "stream",
     "text": [
      "HTTP/1.1 200 OK\n",
      "\u001b[1mdate\u001b[0m: Sat, 15 Mar 2025 16:29:38 GMT\n",
      "\u001b[1mserver\u001b[0m: uvicorn\n",
      "\u001b[1mcontent-length\u001b[0m: 38\n",
      "\u001b[1mcontent-type\u001b[0m: application/json\n",
      "\n",
      "{\"route\":\"dynamic\",\"itemid\":\"my_item\"}"
     ]
    }
   ],
   "source": [
    "!curl -X GET -i http://127.0.0.1:8000/item/my_item                                  \n"
   ]
  },
  {
   "cell_type": "code",
   "execution_count": 23,
   "metadata": {},
   "outputs": [
    {
     "name": "stdout",
     "output_type": "stream",
     "text": [
      "HTTP/1.1 200 OK\n",
      "\u001b[1mdate\u001b[0m: Sat, 15 Mar 2025 16:40:51 GMT\n",
      "\u001b[1mserver\u001b[0m: uvicorn\n",
      "\u001b[1mcontent-length\u001b[0m: 58\n",
      "\u001b[1mcontent-type\u001b[0m: application/json\n",
      "\n",
      "{\"itemid\":\"123\",\"description\":\"an object\",\"language\":\"en\"}"
     ]
    }
   ],
   "source": [
    "!curl -X GET -i http://127.0.0.1:8000/item/123/description/en\n"
   ]
  },
  {
   "cell_type": "code",
   "execution_count": null,
   "metadata": {},
   "outputs": [],
   "source": []
  }
 ],
 "metadata": {
  "kernelspec": {
   "display_name": "fast",
   "language": "python",
   "name": "python3"
  },
  "language_info": {
   "codemirror_mode": {
    "name": "ipython",
    "version": 3
   },
   "file_extension": ".py",
   "mimetype": "text/x-python",
   "name": "python",
   "nbconvert_exporter": "python",
   "pygments_lexer": "ipython3",
   "version": "3.10.16"
  }
 },
 "nbformat": 4,
 "nbformat_minor": 2
}
