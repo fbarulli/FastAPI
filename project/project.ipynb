{
 "cells": [
  {
   "cell_type": "code",
   "execution_count": 1,
   "metadata": {},
   "outputs": [],
   "source": [
    "from data.data import questions, Question\n",
    "\n",
    "# When you need the DataFrame:\n",
    "validated_df = Question.to_dataframe(questions)"
   ]
  },
  {
   "cell_type": "code",
   "execution_count": 2,
   "metadata": {},
   "outputs": [
    {
     "data": {
      "text/html": [
       "<div>\n",
       "<style scoped>\n",
       "    .dataframe tbody tr th:only-of-type {\n",
       "        vertical-align: middle;\n",
       "    }\n",
       "\n",
       "    .dataframe tbody tr th {\n",
       "        vertical-align: top;\n",
       "    }\n",
       "\n",
       "    .dataframe thead th {\n",
       "        text-align: right;\n",
       "    }\n",
       "</style>\n",
       "<table border=\"1\" class=\"dataframe\">\n",
       "  <thead>\n",
       "    <tr style=\"text-align: right;\">\n",
       "      <th></th>\n",
       "      <th>question</th>\n",
       "      <th>subject</th>\n",
       "      <th>use</th>\n",
       "      <th>correct</th>\n",
       "      <th>responseA</th>\n",
       "      <th>responseB</th>\n",
       "      <th>responseC</th>\n",
       "      <th>remark</th>\n",
       "    </tr>\n",
       "  </thead>\n",
       "  <tbody>\n",
       "    <tr>\n",
       "      <th>0</th>\n",
       "      <td>What does No-SQL stand for?</td>\n",
       "      <td>Databases</td>\n",
       "      <td>Positioning test</td>\n",
       "      <td>A</td>\n",
       "      <td>Not OnlySQL</td>\n",
       "      <td>NoSQL</td>\n",
       "      <td>Not all SQL</td>\n",
       "      <td></td>\n",
       "    </tr>\n",
       "    <tr>\n",
       "      <th>1</th>\n",
       "      <td>Cassandra and HBase are databases</td>\n",
       "      <td>Databases</td>\n",
       "      <td>Positioning test</td>\n",
       "      <td>C</td>\n",
       "      <td>relational database</td>\n",
       "      <td>object-oriented</td>\n",
       "      <td>column-oriented</td>\n",
       "      <td></td>\n",
       "    </tr>\n",
       "    <tr>\n",
       "      <th>2</th>\n",
       "      <td>MongoDB and CouchDB are databases</td>\n",
       "      <td>Databases</td>\n",
       "      <td>Positioning test</td>\n",
       "      <td>B</td>\n",
       "      <td>relational database</td>\n",
       "      <td>object-oriented</td>\n",
       "      <td>column-oriented</td>\n",
       "      <td></td>\n",
       "    </tr>\n",
       "    <tr>\n",
       "      <th>3</th>\n",
       "      <td>OrientDB and Neo4J are databases</td>\n",
       "      <td>Databases</td>\n",
       "      <td>Positioning test</td>\n",
       "      <td>D</td>\n",
       "      <td>relational database</td>\n",
       "      <td>object-oriented</td>\n",
       "      <td>column-oriented</td>\n",
       "      <td></td>\n",
       "    </tr>\n",
       "    <tr>\n",
       "      <th>4</th>\n",
       "      <td>To index textual data, I can use</td>\n",
       "      <td>Databases</td>\n",
       "      <td>Positioning test</td>\n",
       "      <td>A</td>\n",
       "      <td>ElasticSearch</td>\n",
       "      <td>Neo4J</td>\n",
       "      <td>mysql</td>\n",
       "      <td></td>\n",
       "    </tr>\n",
       "    <tr>\n",
       "      <th>...</th>\n",
       "      <td>...</td>\n",
       "      <td>...</td>\n",
       "      <td>...</td>\n",
       "      <td>...</td>\n",
       "      <td>...</td>\n",
       "      <td>...</td>\n",
       "      <td>...</td>\n",
       "      <td>...</td>\n",
       "    </tr>\n",
       "    <tr>\n",
       "      <th>71</th>\n",
       "      <td>Which Spark library does not exist?</td>\n",
       "      <td>Data Streaming</td>\n",
       "      <td>Validation test</td>\n",
       "      <td></td>\n",
       "      <td>SparkSQL</td>\n",
       "      <td>SparkML</td>\n",
       "      <td>Spark Streaming</td>\n",
       "      <td></td>\n",
       "    </tr>\n",
       "    <tr>\n",
       "      <th>72</th>\n",
       "      <td>What does RDD mean?</td>\n",
       "      <td>Data Streaming</td>\n",
       "      <td>Validation test</td>\n",
       "      <td></td>\n",
       "      <td>Raw distributed dataset</td>\n",
       "      <td>Redundant Distributed Dataset</td>\n",
       "      <td>Resilient Distributed DataSet</td>\n",
       "      <td></td>\n",
       "    </tr>\n",
       "    <tr>\n",
       "      <th>73</th>\n",
       "      <td>What is DAG?</td>\n",
       "      <td>Data Streaming</td>\n",
       "      <td>Validation test</td>\n",
       "      <td></td>\n",
       "      <td>A representation of the tasks to be performed</td>\n",
       "      <td>A device that optimizes calculations</td>\n",
       "      <td></td>\n",
       "      <td></td>\n",
       "    </tr>\n",
       "    <tr>\n",
       "      <th>74</th>\n",
       "      <td>Dstreams are defined by</td>\n",
       "      <td>Data Streaming</td>\n",
       "      <td>Validation test</td>\n",
       "      <td></td>\n",
       "      <td>A time limit</td>\n",
       "      <td>A space limit</td>\n",
       "      <td>A randomly determined limit</td>\n",
       "      <td></td>\n",
       "    </tr>\n",
       "    <tr>\n",
       "      <th>75</th>\n",
       "      <td>In HBase, data is stored by</td>\n",
       "      <td>Data Streaming</td>\n",
       "      <td>Validation test</td>\n",
       "      <td></td>\n",
       "      <td>Lines</td>\n",
       "      <td>Column families</td>\n",
       "      <td>Keys</td>\n",
       "      <td></td>\n",
       "    </tr>\n",
       "  </tbody>\n",
       "</table>\n",
       "<p>76 rows × 8 columns</p>\n",
       "</div>"
      ],
      "text/plain": [
       "                               question         subject               use  \\\n",
       "0           What does No-SQL stand for?       Databases  Positioning test   \n",
       "1     Cassandra and HBase are databases       Databases  Positioning test   \n",
       "2     MongoDB and CouchDB are databases       Databases  Positioning test   \n",
       "3      OrientDB and Neo4J are databases       Databases  Positioning test   \n",
       "4      To index textual data, I can use       Databases  Positioning test   \n",
       "..                                  ...             ...               ...   \n",
       "71  Which Spark library does not exist?  Data Streaming   Validation test   \n",
       "72                  What does RDD mean?  Data Streaming   Validation test   \n",
       "73                         What is DAG?  Data Streaming   Validation test   \n",
       "74              Dstreams are defined by  Data Streaming   Validation test   \n",
       "75          In HBase, data is stored by  Data Streaming   Validation test   \n",
       "\n",
       "   correct                                      responseA  \\\n",
       "0        A                                    Not OnlySQL   \n",
       "1        C                            relational database   \n",
       "2        B                            relational database   \n",
       "3        D                            relational database   \n",
       "4        A                                  ElasticSearch   \n",
       "..     ...                                            ...   \n",
       "71                                               SparkSQL   \n",
       "72                                Raw distributed dataset   \n",
       "73          A representation of the tasks to be performed   \n",
       "74                                           A time limit   \n",
       "75                                                  Lines   \n",
       "\n",
       "                               responseB                      responseC remark  \n",
       "0                                  NoSQL                    Not all SQL         \n",
       "1                        object-oriented                column-oriented         \n",
       "2                        object-oriented                column-oriented         \n",
       "3                        object-oriented                column-oriented         \n",
       "4                                  Neo4J                          mysql         \n",
       "..                                   ...                            ...    ...  \n",
       "71                               SparkML                Spark Streaming         \n",
       "72         Redundant Distributed Dataset  Resilient Distributed DataSet         \n",
       "73  A device that optimizes calculations                                        \n",
       "74                         A space limit    A randomly determined limit         \n",
       "75                       Column families                           Keys         \n",
       "\n",
       "[76 rows x 8 columns]"
      ]
     },
     "execution_count": 2,
     "metadata": {},
     "output_type": "execute_result"
    }
   ],
   "source": [
    "validated_df"
   ]
  },
  {
   "cell_type": "code",
   "execution_count": null,
   "metadata": {},
   "outputs": [],
   "source": []
  },
  {
   "cell_type": "code",
   "execution_count": null,
   "metadata": {},
   "outputs": [],
   "source": [
    "#uvicorn project.app:app --host 0.0.0.0 --port 8000"
   ]
  },
  {
   "cell_type": "code",
   "execution_count": 26,
   "metadata": {},
   "outputs": [
    {
     "name": "stdout",
     "output_type": "stream",
     "text": [
      "{\"questions\":[{\"question\":\"What does No-SQL stand for?\",\"subject\":\"Databases\",\"use\":\"Positioning test\",\"correct\":\"A\",\"responseA\":\"Not OnlySQL\",\"responseB\":\"NoSQL\",\"responseC\":\"Not all SQL\",\"remark\":\"\"},{\"question\":\"Cassandra and HBase are databases\",\"subject\":\"Databases\",\"use\":\"Positioning test\",\"correct\":\"C\",\"responseA\":\"relational database\",\"responseB\":\"object-oriented\",\"responseC\":\"column-oriented\",\"remark\":\"\"},{\"question\":\"MongoDB and CouchDB are databases\",\"subject\":\"Databases\",\"use\":\"Positioning test\",\"correct\":\"B\",\"responseA\":\"relational database\",\"responseB\":\"object-oriented\",\"responseC\":\"column-oriented\",\"remark\":\"\"},{\"question\":\"OrientDB and Neo4J are databases\",\"subject\":\"Databases\",\"use\":\"Positioning test\",\"correct\":\"D\",\"responseA\":\"relational database\",\"responseB\":\"object-oriented\",\"responseC\":\"column-oriented\",\"remark\":\"\"},{\"question\":\"To index textual data, I can use\",\"subject\":\"Databases\",\"use\":\"Positioning test\",\"correct\":\"A\",\"responseA\":\"ElasticSearch\",\"responseB\":\"Neo4J\",\"responseC\":\"mysql\",\"remark\":\"\"},{\"question\":\"What to pay attention to when choosing a database system?\",\"subject\":\"Databases\",\"use\":\"Positioning test\",\"correct\":\"D\",\"responseA\":\"Definition of a scheme\",\"responseB\":\"Speed ​​of reading/writing\",\"responseC\":\"Differentiation of accesses\",\"remark\":\"\"},{\"question\":\"What are the three building blocks of Hadoop?\",\"subject\":\"Distributed systems\",\"use\":\"Positioning test\",\"correct\":\"A\",\"responseA\":\"HDFS, YARN and Haddoop MapReduce\",\"responseB\":\"Hive, LOL and Spark\",\"responseC\":\"Spark, Hadoop MapReduce and Hive\",\"remark\":\"\"},{\"question\":\"During the Map step of a wordcount applied to the sentence \\\"this sentence is a sentence\\\", the values ​​emitted are:\",\"subject\":\"Distributed systems\",\"use\":\"Positioning test\",\"correct\":\"B\",\"responseA\":\"1, 2, 1, 1\",\"responseB\":\"1, 1, 1, 1, 1, 1\",\"responseC\":\"5, 0, 0, 0, 0\",\"remark\":\"\"},{\"question\":\"In Hadoop, combiners allow\",\"subject\":\"Distributed systems\",\"use\":\"Positioning test\",\"correct\":\"C\",\"responseA\":\"combine inputs and outputs\",\"responseB\":\"to better distribute the load during the Shuffle phase\",\"responseC\":\"to limit the number of values ​​emitted during the Reduce step\",\"remark\":\"\"},{\"question\":\"In Hadoop, partitioners allow\",\"subject\":\"Distributed systems\",\"use\":\"Positioning test\",\"correct\":\"B\",\"responseA\":\"combine inputs and outputs\",\"responseB\":\"to better distribute the load during the Shuffle phase\",\"responseC\":\"limit the number of values ​​emitted during the Reduce step\",\"remark\":\"\"},{\"question\":\"The CAP theorem opposes\",\"subject\":\"Distributed systems\",\"use\":\"Positioning test\",\"correct\":\"B\",\"responseA\":\"Capacity, Speed, Distribution\",\"responseB\":\"Availability, Consistency, Distribution\",\"responseC\":\"Consistency, Adaptability, Power\",\"remark\":\"\"},{\"question\":\"Hive allows\",\"subject\":\"Distributed systems\",\"use\":\"Positioning test\",\"correct\":\"A\",\"responseA\":\"to abstract a relational database\",\"responseB\":\"to classify the documents in order of importance\",\"responseC\":\"orchestrate machine clusters\",\"remark\":\"\"},{\"question\":\"Spark differs from Hadoop by\",\"subject\":\"Distributed systems\",\"use\":\"Positioning test\",\"correct\":\"D\",\"responseA\":\"its lack of a storage system\",\"responseB\":\"its many libraries including Machine Learning\",\"responseC\":\"writing to memory rather than to disk during the Shuffle phase\",\"remark\":\"\"},{\"question\":\"An asynchronous messaging system makes it possible to decorrelate consumers and producers\",\"subject\":\"Data Streaming\",\"use\":\"Positioning test\",\"correct\":\"A\",\"responseA\":\"True\",\"responseB\":\"False\",\"responseC\":\"\",\"remark\":\"\"},{\"question\":\"Kafka is messaging system\",\"subject\":\"Data Streaming\",\"use\":\"Positioning test\",\"correct\":\"D\",\"responseA\":\"distributed\",\"responseB\":\"asynchronous\",\"responseC\":\"publish/subscribe\",\"remark\":\"\"},{\"question\":\"The lambda architecture presents the layers\",\"subject\":\"Data Streaming\",\"use\":\"Positioning test\",\"correct\":\"D\",\"responseA\":\"batch\",\"responseB\":\"real time\",\"responseC\":\"service\",\"remark\":\"\"},{\"question\":\"Docker is used\",\"subject\":\"Docker\",\"use\":\"Positioning test\",\"correct\":\"A\",\"responseA\":\"to develop quickly and put into production easily\",\"responseB\":\"to improve the capabilities of a database\",\"responseC\":\"to improve computing power\",\"remark\":\"\"},{\"question\":\"Docker allows persisting changes\",\"subject\":\"Docker\",\"use\":\"Positioning test\",\"correct\":\"C\",\"responseA\":\"Yes\",\"responseB\":\"No\",\"responseC\":\"Yes provided you use volumes\",\"remark\":\"\"},{\"question\":\"Docker containers can communicate with each other using\",\"subject\":\"Docker\",\"use\":\"Positioning test\",\"correct\":\"B\",\"responseA\":\"volumes\",\"responseB\":\"networks\",\"responseC\":\"communications\",\"remark\":\"\"},{\"question\":\"DockerHub is\",\"subject\":\"Docker\",\"use\":\"Positioning test\",\"correct\":\"C\",\"responseA\":\"a system that allows you to launch several containers at once\",\"responseB\":\"a container orchestration system\",\"responseC\":\"a Docker image directory\",\"remark\":\"\"},{\"question\":\"Docker-compose is\",\"subject\":\"Docker\",\"use\":\"Positioning test\",\"correct\":\"A\",\"responseA\":\"a system that allows you to launch several containers at once\",\"responseB\":\"a container orchestration system\",\"responseC\":\"a Docker image directory\",\"remark\":\"\"},{\"question\":\"Which of these problems is a classification problem:\",\"subject\":\"Classification\",\"use\":\"Validation test\",\"correct\":\"C\",\"responseA\":\"Customer segmentation\",\"responseB\":\"Optimal price calculation\",\"responseC\":\"Prediction of the benign nature of a tumor\",\"remark\":\"\"},{\"question\":\"Which of these problems is a classification problem?\",\"subject\":\"Classification\",\"use\":\"Validation test\",\"correct\":\"B\",\"responseA\":\"Estimation of the price of a work of art\",\"responseB\":\"Prediction of the departure of a customer\",\"responseC\":\"Modeling of air flows around a reactor\",\"remark\":\"\"},{\"question\":\"Which of these problems is a classification problem?\",\"subject\":\"Classification\",\"use\":\"Validation test\",\"correct\":\"B,C\",\"responseA\":\"Labeling an image\",\"responseB\":\"Object recognition\",\"responseC\":\"Automatic word generation\",\"remark\":\"\"},{\"question\":\"Do the classification algorithms allow to give a probability of belonging to a class rather than just the label?\",\"subject\":\"Classification\",\"use\":\"Validation test\",\"correct\":\"A\",\"responseA\":\"Yes, it is in general the basis of all classification algorithms\",\"responseB\":\"No, this problem is a regression problem\",\"responseC\":\"\",\"remark\":\"\"},{\"question\":\"What metric is used in classification?\",\"subject\":\"Classification\",\"use\":\"Validation test\",\"correct\":\"A\",\"responseA\":\"The F1-score\",\"responseB\":\"The RMSE\",\"responseC\":\"perplexity\",\"remark\":\"\"},{\"question\":\"Which algorithm is better suited to a dataset mostly composed of qualitative variables?\",\"subject\":\"Classification\",\"use\":\"Validation test\",\"correct\":\"C\",\"responseA\":\"SVM\",\"responseB\":\"Logistics Regression\",\"responseC\":\"Decision tree\",\"remark\":\"\"},{\"question\":\"In a bank fraud problem, is accuracy a suitable metric?\\n\",\"subject\":\"Classification\",\"use\":\"Validation test\",\"correct\":\"B\",\"responseA\":\"Yes, since it is a classification problem.\",\"responseB\":\"No because the imbalance of the two classes does not allow a significant improvement of this metric\",\"responseC\":\"\",\"remark\":\"\"},{\"question\":\"To give a better metric in all situations\",\"subject\":\"Classification\",\"use\":\"Validation test\",\"correct\":\"C\",\"responseA\":\"To give a better metric in all situations\",\"responseB\":\"To be easier to interpret\",\"responseC\":\"Easily identify proportions of observations according to their probability\",\"remark\":\"\"},{\"question\":\"The specificity is defined by (T: true, F: false, P: positive, N: negative):\",\"subject\":\"Classification\",\"use\":\"Validation test\",\"correct\":\"B\",\"responseA\":\"(VP + NV) / (VP + NV + FN + FP)\",\"responseB\":\"DV / (DV + FP)\",\"responseC\":\"VP / (VP + FN)\",\"remark\":\"\"},{\"question\":\"Sensitivity is defined by (T: true, F: false, P: positive, N: negative):\",\"subject\":\"Classification\",\"use\":\"Validation test\",\"correct\":\"C\",\"responseA\":\"(VP + NV) / (VP + NV + FN + FP)\",\"responseB\":\"DV / (DV + FP)\",\"responseC\":\"VP / (VP + FN)\",\"remark\":\"\"},{\"question\":\"Hadoop allows to:\",\"subject\":\"Distributed systems\",\"use\":\"Validation test\",\"correct\":\"D\",\"responseA\":\"Store data\",\"responseB\":\"To make calculations\",\"responseC\":\"Orchestrate MapReduce jobs\",\"remark\":\"\"},{\"question\":\"In the MapReduce paradigm, combiners are used to:\",\"subject\":\"Distributed systems\",\"use\":\"Validation test\",\"correct\":\"B\",\"responseA\":\"Balancing the reducer workload\",\"responseB\":\"Decrease the number of values ​​to be emitted from mappers to reducers\",\"responseC\":\"Accelerate calculations\",\"remark\":\"\"},{\"question\":\"In the MapReduce paradigm, partitioners serve to:\",\"subject\":\"Distributed systems\",\"use\":\"Validation test\",\"correct\":\"A\",\"responseA\":\"Balancing the reducer workload\",\"responseB\":\"Decrease the number of values ​​to be emitted from mappers to reducers\",\"responseC\":\"Accelerate calculations\",\"remark\":\"\"},{\"question\":\"The use of distributed systems allows\",\"subject\":\"Distributed systems\",\"use\":\"Validation test\",\"correct\":\"D\",\"responseA\":\"Speed ​​up calculations\",\"responseB\":\"Secure access to data\",\"responseC\":\"Easily expand storage capacity\",\"remark\":\"\"},{\"question\":\"Hadoop streaming is a tool that allows\",\"subject\":\"Distributed systems\",\"use\":\"Validation test\",\"correct\":\"A\",\"responseA\":\"To make MapReduce jobs with any programming language\",\"responseB\":\"Real-time data processing\",\"responseC\":\"Store multiple copies of a dataset\",\"remark\":\"\"},{\"question\":\"In the case of a distributed architecture, the CAP theorem forces us to choose between:\",\"subject\":\"Distributed systems\",\"use\":\"Validation test\",\"correct\":\"A\",\"responseA\":\"Consistency and Availability\",\"responseB\":\"Partition and Coherence\",\"responseC\":\"Score and Availability\",\"remark\":\"\"},{\"question\":\"Hive is\",\"subject\":\"Distributed systems\",\"use\":\"Validation test\",\"correct\":\"B\",\"responseA\":\"A relational database management system\",\"responseB\":\"An abstraction of relational DBMSs\",\"responseC\":\"A Hadoop library\",\"remark\":\"\"},{\"question\":\"For Hive, partitioning consists of\",\"subject\":\"Distributed systems\",\"use\":\"Validation test\",\"correct\":\"C\",\"responseA\":\"Cut the tables into blocks of pre-defined size\",\"responseB\":\"Split tables by columns\",\"responseC\":\"Split tables according to the values ​​of a variable\",\"remark\":\"\"},{\"question\":\"Pig lets\",\"subject\":\"Distributed systems\",\"use\":\"Validation test\",\"correct\":\"A\",\"responseA\":\"Make writing MapReduce jobs easier and more intuitive\",\"responseB\":\"Accelerate calculations performed on Hadoop\",\"responseC\":\"To orchestrate Hive\",\"remark\":\"\"},{\"question\":\"Sqoop is used\",\"subject\":\"Distributed systems\",\"use\":\"Validation test\",\"correct\":\"A\",\"responseA\":\"To transfer data from RDBMS to HDFS and vice versa\",\"responseB\":\"To make calculations in real time\",\"responseC\":\"Automate Map Reduce jobs\",\"remark\":\"\"},{\"question\":\"Data science is ...\",\"subject\":\"data science\",\"use\":\"Total Boot Camp\",\"correct\":\"A\",\"responseA\":\"A set of techniques and tools used to get value out of data.\",\"responseB\":\"A scientific approach to data acquisition.\",\"responseC\":\"A set of empirical approaches used to define theoretical formulas and /or equations thanks to data.\",\"remark\":\"\"},{\"question\":\"Its applications are ...\",\"subject\":\"data science\",\"use\":\"Total Boot Camp\",\"correct\":\"A\",\"responseA\":\"Limited to a small amount of fields and use cases.\",\"responseB\":\"Close to unlimited and find use cases in almost every known fields where data can be collected.\",\"responseC\":\"\",\"remark\":\"\"},{\"question\":\"What are the first things you want to do when you start a Data Science project?\",\"subject\":\"data science\",\"use\":\"Total Boot Camp\",\"correct\":\"A C\",\"responseA\":\"Define the problem.\",\"responseB\":\"Choose the model you want to implement.\",\"responseC\":\"Obtain the data and check if it fits our standard.\",\"remark\":\"\"},{\"question\":\"Are every dataset worth a Data Science project?\",\"subject\":\"data science\",\"use\":\"Total Boot Camp\",\"correct\":\"A\",\"responseA\":\"No.\",\"responseB\":\"If it's big enough, yes.\",\"responseC\":\"Yes.\",\"remark\":\"\"},{\"question\":\"When the dataset is all set and obtained, what do you need to do?\",\"subject\":\"data science\",\"use\":\"Total Boot Camp\",\"correct\":\"B C\",\"responseA\":\"Run a model on it and then do a series of statistical tests on it.\",\"responseB\":\"Explore it and do a series of statistical tests on it.\",\"responseC\":\"Pre-process it by cleaning it of missing values ​​or irrelevant data.\",\"remark\":\"\"},{\"question\":\"What are the best tools you can use when starting a project?\",\"subject\":\"data science\",\"use\":\"Total Boot Camp\",\"correct\":\"A B C D\",\"responseA\":\"Data Visualization.\",\"responseB\":\"Statistical testing.\",\"responseC\":\"Expert intuition.\",\"remark\":\"Gut-feelings.\"},{\"question\":\"When building a model, you have to\",\"subject\":\"data science\",\"use\":\"Total Boot Camp\",\"correct\":\"B\",\"responseA\":\"Look out for parameters that can be optimized and optimize them.\",\"responseB\":\"Train it on all the data available.\",\"responseC\":\"\",\"remark\":\"\"},{\"question\":\"Your model is all done and working, what's next?\",\"subject\":\"data science\",\"use\":\"Total Boot Camp\",\"correct\":\"B\",\"responseA\":\"My project is done!\",\"responseB\":\"Analyze the results and tune the existing model to fit best the problem defined initially.\",\"responseC\":\"\",\"remark\":\"\"},{\"question\":\"What is Machine learning?\",\"subject\":\"machine-learning\",\"use\":\"Total Boot Camp\",\"correct\":\"B\",\"responseA\":\"The phenomenon in which an algorithm realizes it is not paid enough and puts itself on a strike.\",\"responseB\":\"An application of artificial intelligence that provides systems the ability to automatically learn and improve from experience without being explicitly programmed.\",\"responseC\":\"Exactly what Datascientest offers: a way to learn through machines.\",\"remark\":\"\"},{\"question\":\"Supervised learning ...\",\"subject\":\"machine-learning\",\"use\":\"Total Boot Camp\",\"correct\":\"A C\",\"responseA\":\"Is when the data we use to fit the model on is labeled.\",\"responseB\":\"Is when the algorithm includes steps to check the progression of the computation process.\",\"responseC\":\"Allows to predict the value or the class of a new element.\",\"remark\":\"\"},{\"question\":\"Unsupervised learning ...\",\"subject\":\"machine-learning\",\"use\":\"Total Boot Camp\",\"correct\":\"A C\",\"responseA\":\"Is when the data we feed to our model is not labeled.\",\"responseB\":\"Allows to predict the value or the class of a new element.\",\"responseC\":\"Allows data partitioning according to the features, distribution density estimation and dimension reduction.\",\"remark\":\"\"},{\"question\":\"Classification\",\"subject\":\"machine-learning\",\"use\":\"Total Boot Camp\",\"correct\":\"B\",\"responseA\":\"Is used when the target we aim to predict is continuous.\",\"responseB\":\"Is used when the target we aim to work on is discrete.\",\"responseC\":\"Is not a method needing artificial intelligence techniques.\",\"remark\":\"\"},{\"question\":\"Regression\",\"subject\":\"machine-learning\",\"use\":\"Total Boot Camp\",\"correct\":\"A\",\"responseA\":\"Is used when the target we aim to predict is continuous.\",\"responseB\":\"Is used when the target we aim to predict is discrete.\",\"responseC\":\"Gives the same results with two points or a thousand.\",\"remark\":\"\"},{\"question\":\"Overfitting is\",\"subject\":\"machine-learning\",\"use\":\"Total Boot Camp\",\"correct\":\"A\",\"responseA\":\"When the model fits too much the training data and don't generalize enough.\",\"responseB\":\"When the model takes too much time to train on the data.\",\"responseC\":\"When the algorithm can't store anymore the results of the fitting process.\",\"remark\":\"\"},{\"question\":\"A way to handle imbalanced datasets is\",\"subject\":\"machine-learning\",\"use\":\"Total Boot Camp\",\"correct\":\"B,C\",\"responseA\":\"Filtering\",\"responseB\":\"Undersampling\",\"responseC\":\"Oversampling\",\"remark\":\"\"},{\"question\":\"Why use APIs?\",\"subject\":\"Automation\",\"use\":\"Validation test\",\"correct\":\"D\",\"responseA\":\"To isolate end-user services\",\"responseB\":\"To standardize communications between services\",\"responseC\":\"To enable easy evolution of services\",\"remark\":\"\"},{\"question\":\"By using Flask, we allow a user or a machine to use a service with\",\"subject\":\"Automation\",\"use\":\"Validation test\",\"correct\":\"C\",\"responseA\":\"SQL\",\"responseB\":\"Python\",\"responseC\":\"HTTP\",\"remark\":\"\"},{\"question\":\"Why use Docker?\",\"subject\":\"Automation\",\"use\":\"Validation test\",\"correct\":\"D\",\"responseA\":\"To easily and quickly deploy processes\",\"responseB\":\"To isolate processes from the host machine\",\"responseC\":\"To test services quickly\",\"remark\":\"\"},{\"question\":\"If we draw a parallel with object-oriented programming, Docker container images are the equivalent of\",\"subject\":\"Automation\",\"use\":\"Validation test\",\"correct\":\"A\",\"responseA\":\"Classes\",\"responseB\":\"Class instances\",\"responseC\":\"Methods\",\"remark\":\"\"},{\"question\":\"To facilitate the passage of files between the host machine and a Docker container, you can use the\",\"subject\":\"Automation\",\"use\":\"Validation test\",\"correct\":\"C\",\"responseA\":\"Pictures\",\"responseB\":\"Networks\",\"responseC\":\"volumes\",\"remark\":\"\"},{\"question\":\"To facilitate communication between the host machine and a Docker container, you can use the\",\"subject\":\"Automation\",\"use\":\"Validation test\",\"correct\":\"B\",\"responseA\":\"Pictures\",\"responseB\":\"Networks\",\"responseC\":\"volumes\",\"remark\":\"\"},{\"question\":\"What command launches a Docker container?\",\"subject\":\"Automation\",\"use\":\"Validation test\",\"correct\":\"B\",\"responseA\":\"docker image run image_name\",\"responseB\":\"docker container run image_name\",\"responseC\":\"docker image pull image_name\",\"remark\":\"\"},{\"question\":\"What is Docker-Compose used for?\",\"subject\":\"Automation\",\"use\":\"Validation test\",\"correct\":\"A\",\"responseA\":\"List public container images\",\"responseB\":\"To deploy several containers at the same time\",\"responseC\":\"To create your own Docker image\",\"remark\":\"\"},{\"question\":\"What is Docker-Compose used for?\",\"subject\":\"Automation\",\"use\":\"Validation test\",\"correct\":\"B\",\"responseA\":\"List public container images\",\"responseB\":\"To deploy several containers at the same time\",\"responseC\":\"To create your own Docker image\",\"remark\":\"\"},{\"question\":\"In Airflow, the DAG lists\",\"subject\":\"Automation\",\"use\":\"Validation test\",\"correct\":\"D\",\"responseA\":\"Tasks to be performed\",\"responseB\":\"Actions to take in case of failure\",\"responseC\":\"The sequence of tasks to be performed\",\"remark\":\"\"},{\"question\":\"What is the difference between processing time and event time?\",\"subject\":\"Data Streaming\",\"use\":\"Validation test\",\"correct\":\"B\",\"responseA\":\"One corresponds to the calculation start time while the other corresponds to the time required for the calculation\",\"responseB\":\"One corresponds to the entry of the data into the system while the other corresponds to the date of creation of the data\",\"responseC\":\"They are actually the same thing\",\"remark\":\"\"},{\"question\":\"Kafka is a messaging system\",\"subject\":\"Data Streaming\",\"use\":\"Validation test\",\"correct\":\"A\",\"responseA\":\"Publish/Subscribe + Asynchronous\",\"responseB\":\"Publication/Subscription + Synchronous\",\"responseC\":\"Tail Oriented + Asynchronous\",\"remark\":\"\"},{\"question\":\"In Kafka, brokers allow you to\",\"subject\":\"Data Streaming\",\"use\":\"Validation test\",\"correct\":\"\",\"responseA\":\"distribute intermediate data storage\",\"responseB\":\"distribute the data flow load\",\"responseC\":\"prevent system crashes\",\"remark\":\"\"},{\"question\":\"In Kafka, in a consumer group, consumers access\",\"subject\":\"Data Streaming\",\"use\":\"Validation test\",\"correct\":\"\",\"responseA\":\"each to all available data\",\"responseB\":\"each to a part of the data relating to its consumption capacity\",\"responseC\":\"each to a part of the data, evenly distributed\",\"remark\":\"\"},{\"question\":\"What is the difference between Hadoop and Spark?\",\"subject\":\"Data Streaming\",\"use\":\"Validation test\",\"correct\":\"\",\"responseA\":\"Hadoop is a compute and storage system while Spark is just a compute system\",\"responseB\":\"Spark is written in Scala while Hadoop is written in Java\",\"responseC\":\"Spark writes values ​​to memory while Hadoop writes them to disk\",\"remark\":\"\"},{\"question\":\"Which Spark library does not exist?\",\"subject\":\"Data Streaming\",\"use\":\"Validation test\",\"correct\":\"\",\"responseA\":\"SparkSQL\",\"responseB\":\"SparkML\",\"responseC\":\"Spark Streaming\",\"remark\":\"\"},{\"question\":\"What does RDD mean?\",\"subject\":\"Data Streaming\",\"use\":\"Validation test\",\"correct\":\"\",\"responseA\":\"Raw distributed dataset\",\"responseB\":\"Redundant Distributed Dataset\",\"responseC\":\"Resilient Distributed DataSet\",\"remark\":\"\"},{\"question\":\"What is DAG?\",\"subject\":\"Data Streaming\",\"use\":\"Validation test\",\"correct\":\"\",\"responseA\":\"A representation of the tasks to be performed\",\"responseB\":\"A device that optimizes calculations\",\"responseC\":\"\",\"remark\":\"\"},{\"question\":\"Dstreams are defined by\",\"subject\":\"Data Streaming\",\"use\":\"Validation test\",\"correct\":\"\",\"responseA\":\"A time limit\",\"responseB\":\"A space limit\",\"responseC\":\"A randomly determined limit\",\"remark\":\"\"},{\"question\":\"In HBase, data is stored by\",\"subject\":\"Data Streaming\",\"use\":\"Validation test\",\"correct\":\"\",\"responseA\":\"Lines\",\"responseB\":\"Column families\",\"responseC\":\"Keys\",\"remark\":\"\"}]}"
     ]
    }
   ],
   "source": [
    "!curl -X GET \"http://127.0.0.1:8000/questions\""
   ]
  },
  {
   "cell_type": "code",
   "execution_count": 19,
   "metadata": {},
   "outputs": [
    {
     "name": "stdout",
     "output_type": "stream",
     "text": [
      "{\"uses\":[\"Positioning test\",\"Validation test\",\"Total Boot Camp\"]}"
     ]
    }
   ],
   "source": [
    "!curl -X GET \"http://127.0.0.1:8000/questions/use\""
   ]
  },
  {
   "cell_type": "code",
   "execution_count": 24,
   "metadata": {},
   "outputs": [
    {
     "name": "stdout",
     "output_type": "stream",
     "text": [
      "{\"questions_by_use\":[{\"question\":\"Which of these problems is a classification problem:\",\"subject\":\"Classification\",\"use\":\"Validation test\",\"correct\":\"C\",\"responseA\":\"Customer segmentation\",\"responseB\":\"Optimal price calculation\",\"responseC\":\"Prediction of the benign nature of a tumor\",\"remark\":\"\"},{\"question\":\"Which of these problems is a classification problem?\",\"subject\":\"Classification\",\"use\":\"Validation test\",\"correct\":\"B\",\"responseA\":\"Estimation of the price of a work of art\",\"responseB\":\"Prediction of the departure of a customer\",\"responseC\":\"Modeling of air flows around a reactor\",\"remark\":\"\"},{\"question\":\"Which of these problems is a classification problem?\",\"subject\":\"Classification\",\"use\":\"Validation test\",\"correct\":\"B,C\",\"responseA\":\"Labeling an image\",\"responseB\":\"Object recognition\",\"responseC\":\"Automatic word generation\",\"remark\":\"\"},{\"question\":\"Do the classification algorithms allow to give a probability of belonging to a class rather than just the label?\",\"subject\":\"Classification\",\"use\":\"Validation test\",\"correct\":\"A\",\"responseA\":\"Yes, it is in general the basis of all classification algorithms\",\"responseB\":\"No, this problem is a regression problem\",\"responseC\":\"\",\"remark\":\"\"},{\"question\":\"What metric is used in classification?\",\"subject\":\"Classification\",\"use\":\"Validation test\",\"correct\":\"A\",\"responseA\":\"The F1-score\",\"responseB\":\"The RMSE\",\"responseC\":\"perplexity\",\"remark\":\"\"},{\"question\":\"Which algorithm is better suited to a dataset mostly composed of qualitative variables?\",\"subject\":\"Classification\",\"use\":\"Validation test\",\"correct\":\"C\",\"responseA\":\"SVM\",\"responseB\":\"Logistics Regression\",\"responseC\":\"Decision tree\",\"remark\":\"\"},{\"question\":\"In a bank fraud problem, is accuracy a suitable metric?\\n\",\"subject\":\"Classification\",\"use\":\"Validation test\",\"correct\":\"B\",\"responseA\":\"Yes, since it is a classification problem.\",\"responseB\":\"No because the imbalance of the two classes does not allow a significant improvement of this metric\",\"responseC\":\"\",\"remark\":\"\"},{\"question\":\"To give a better metric in all situations\",\"subject\":\"Classification\",\"use\":\"Validation test\",\"correct\":\"C\",\"responseA\":\"To give a better metric in all situations\",\"responseB\":\"To be easier to interpret\",\"responseC\":\"Easily identify proportions of observations according to their probability\",\"remark\":\"\"},{\"question\":\"The specificity is defined by (T: true, F: false, P: positive, N: negative):\",\"subject\":\"Classification\",\"use\":\"Validation test\",\"correct\":\"B\",\"responseA\":\"(VP + NV) / (VP + NV + FN + FP)\",\"responseB\":\"DV / (DV + FP)\",\"responseC\":\"VP / (VP + FN)\",\"remark\":\"\"},{\"question\":\"Sensitivity is defined by (T: true, F: false, P: positive, N: negative):\",\"subject\":\"Classification\",\"use\":\"Validation test\",\"correct\":\"C\",\"responseA\":\"(VP + NV) / (VP + NV + FN + FP)\",\"responseB\":\"DV / (DV + FP)\",\"responseC\":\"VP / (VP + FN)\",\"remark\":\"\"},{\"question\":\"Hadoop allows to:\",\"subject\":\"Distributed systems\",\"use\":\"Validation test\",\"correct\":\"D\",\"responseA\":\"Store data\",\"responseB\":\"To make calculations\",\"responseC\":\"Orchestrate MapReduce jobs\",\"remark\":\"\"},{\"question\":\"In the MapReduce paradigm, combiners are used to:\",\"subject\":\"Distributed systems\",\"use\":\"Validation test\",\"correct\":\"B\",\"responseA\":\"Balancing the reducer workload\",\"responseB\":\"Decrease the number of values ​​to be emitted from mappers to reducers\",\"responseC\":\"Accelerate calculations\",\"remark\":\"\"},{\"question\":\"In the MapReduce paradigm, partitioners serve to:\",\"subject\":\"Distributed systems\",\"use\":\"Validation test\",\"correct\":\"A\",\"responseA\":\"Balancing the reducer workload\",\"responseB\":\"Decrease the number of values ​​to be emitted from mappers to reducers\",\"responseC\":\"Accelerate calculations\",\"remark\":\"\"},{\"question\":\"The use of distributed systems allows\",\"subject\":\"Distributed systems\",\"use\":\"Validation test\",\"correct\":\"D\",\"responseA\":\"Speed ​​up calculations\",\"responseB\":\"Secure access to data\",\"responseC\":\"Easily expand storage capacity\",\"remark\":\"\"},{\"question\":\"Hadoop streaming is a tool that allows\",\"subject\":\"Distributed systems\",\"use\":\"Validation test\",\"correct\":\"A\",\"responseA\":\"To make MapReduce jobs with any programming language\",\"responseB\":\"Real-time data processing\",\"responseC\":\"Store multiple copies of a dataset\",\"remark\":\"\"},{\"question\":\"In the case of a distributed architecture, the CAP theorem forces us to choose between:\",\"subject\":\"Distributed systems\",\"use\":\"Validation test\",\"correct\":\"A\",\"responseA\":\"Consistency and Availability\",\"responseB\":\"Partition and Coherence\",\"responseC\":\"Score and Availability\",\"remark\":\"\"},{\"question\":\"Hive is\",\"subject\":\"Distributed systems\",\"use\":\"Validation test\",\"correct\":\"B\",\"responseA\":\"A relational database management system\",\"responseB\":\"An abstraction of relational DBMSs\",\"responseC\":\"A Hadoop library\",\"remark\":\"\"},{\"question\":\"For Hive, partitioning consists of\",\"subject\":\"Distributed systems\",\"use\":\"Validation test\",\"correct\":\"C\",\"responseA\":\"Cut the tables into blocks of pre-defined size\",\"responseB\":\"Split tables by columns\",\"responseC\":\"Split tables according to the values ​​of a variable\",\"remark\":\"\"},{\"question\":\"Pig lets\",\"subject\":\"Distributed systems\",\"use\":\"Validation test\",\"correct\":\"A\",\"responseA\":\"Make writing MapReduce jobs easier and more intuitive\",\"responseB\":\"Accelerate calculations performed on Hadoop\",\"responseC\":\"To orchestrate Hive\",\"remark\":\"\"},{\"question\":\"Sqoop is used\",\"subject\":\"Distributed systems\",\"use\":\"Validation test\",\"correct\":\"A\",\"responseA\":\"To transfer data from RDBMS to HDFS and vice versa\",\"responseB\":\"To make calculations in real time\",\"responseC\":\"Automate Map Reduce jobs\",\"remark\":\"\"},{\"question\":\"Why use APIs?\",\"subject\":\"Automation\",\"use\":\"Validation test\",\"correct\":\"D\",\"responseA\":\"To isolate end-user services\",\"responseB\":\"To standardize communications between services\",\"responseC\":\"To enable easy evolution of services\",\"remark\":\"\"},{\"question\":\"By using Flask, we allow a user or a machine to use a service with\",\"subject\":\"Automation\",\"use\":\"Validation test\",\"correct\":\"C\",\"responseA\":\"SQL\",\"responseB\":\"Python\",\"responseC\":\"HTTP\",\"remark\":\"\"},{\"question\":\"Why use Docker?\",\"subject\":\"Automation\",\"use\":\"Validation test\",\"correct\":\"D\",\"responseA\":\"To easily and quickly deploy processes\",\"responseB\":\"To isolate processes from the host machine\",\"responseC\":\"To test services quickly\",\"remark\":\"\"},{\"question\":\"If we draw a parallel with object-oriented programming, Docker container images are the equivalent of\",\"subject\":\"Automation\",\"use\":\"Validation test\",\"correct\":\"A\",\"responseA\":\"Classes\",\"responseB\":\"Class instances\",\"responseC\":\"Methods\",\"remark\":\"\"},{\"question\":\"To facilitate the passage of files between the host machine and a Docker container, you can use the\",\"subject\":\"Automation\",\"use\":\"Validation test\",\"correct\":\"C\",\"responseA\":\"Pictures\",\"responseB\":\"Networks\",\"responseC\":\"volumes\",\"remark\":\"\"},{\"question\":\"To facilitate communication between the host machine and a Docker container, you can use the\",\"subject\":\"Automation\",\"use\":\"Validation test\",\"correct\":\"B\",\"responseA\":\"Pictures\",\"responseB\":\"Networks\",\"responseC\":\"volumes\",\"remark\":\"\"},{\"question\":\"What command launches a Docker container?\",\"subject\":\"Automation\",\"use\":\"Validation test\",\"correct\":\"B\",\"responseA\":\"docker image run image_name\",\"responseB\":\"docker container run image_name\",\"responseC\":\"docker image pull image_name\",\"remark\":\"\"},{\"question\":\"What is Docker-Compose used for?\",\"subject\":\"Automation\",\"use\":\"Validation test\",\"correct\":\"A\",\"responseA\":\"List public container images\",\"responseB\":\"To deploy several containers at the same time\",\"responseC\":\"To create your own Docker image\",\"remark\":\"\"},{\"question\":\"What is Docker-Compose used for?\",\"subject\":\"Automation\",\"use\":\"Validation test\",\"correct\":\"B\",\"responseA\":\"List public container images\",\"responseB\":\"To deploy several containers at the same time\",\"responseC\":\"To create your own Docker image\",\"remark\":\"\"},{\"question\":\"In Airflow, the DAG lists\",\"subject\":\"Automation\",\"use\":\"Validation test\",\"correct\":\"D\",\"responseA\":\"Tasks to be performed\",\"responseB\":\"Actions to take in case of failure\",\"responseC\":\"The sequence of tasks to be performed\",\"remark\":\"\"},{\"question\":\"What is the difference between processing time and event time?\",\"subject\":\"Data Streaming\",\"use\":\"Validation test\",\"correct\":\"B\",\"responseA\":\"One corresponds to the calculation start time while the other corresponds to the time required for the calculation\",\"responseB\":\"One corresponds to the entry of the data into the system while the other corresponds to the date of creation of the data\",\"responseC\":\"They are actually the same thing\",\"remark\":\"\"},{\"question\":\"Kafka is a messaging system\",\"subject\":\"Data Streaming\",\"use\":\"Validation test\",\"correct\":\"A\",\"responseA\":\"Publish/Subscribe + Asynchronous\",\"responseB\":\"Publication/Subscription + Synchronous\",\"responseC\":\"Tail Oriented + Asynchronous\",\"remark\":\"\"},{\"question\":\"In Kafka, brokers allow you to\",\"subject\":\"Data Streaming\",\"use\":\"Validation test\",\"correct\":\"\",\"responseA\":\"distribute intermediate data storage\",\"responseB\":\"distribute the data flow load\",\"responseC\":\"prevent system crashes\",\"remark\":\"\"},{\"question\":\"In Kafka, in a consumer group, consumers access\",\"subject\":\"Data Streaming\",\"use\":\"Validation test\",\"correct\":\"\",\"responseA\":\"each to all available data\",\"responseB\":\"each to a part of the data relating to its consumption capacity\",\"responseC\":\"each to a part of the data, evenly distributed\",\"remark\":\"\"},{\"question\":\"What is the difference between Hadoop and Spark?\",\"subject\":\"Data Streaming\",\"use\":\"Validation test\",\"correct\":\"\",\"responseA\":\"Hadoop is a compute and storage system while Spark is just a compute system\",\"responseB\":\"Spark is written in Scala while Hadoop is written in Java\",\"responseC\":\"Spark writes values ​​to memory while Hadoop writes them to disk\",\"remark\":\"\"},{\"question\":\"Which Spark library does not exist?\",\"subject\":\"Data Streaming\",\"use\":\"Validation test\",\"correct\":\"\",\"responseA\":\"SparkSQL\",\"responseB\":\"SparkML\",\"responseC\":\"Spark Streaming\",\"remark\":\"\"},{\"question\":\"What does RDD mean?\",\"subject\":\"Data Streaming\",\"use\":\"Validation test\",\"correct\":\"\",\"responseA\":\"Raw distributed dataset\",\"responseB\":\"Redundant Distributed Dataset\",\"responseC\":\"Resilient Distributed DataSet\",\"remark\":\"\"},{\"question\":\"What is DAG?\",\"subject\":\"Data Streaming\",\"use\":\"Validation test\",\"correct\":\"\",\"responseA\":\"A representation of the tasks to be performed\",\"responseB\":\"A device that optimizes calculations\",\"responseC\":\"\",\"remark\":\"\"},{\"question\":\"Dstreams are defined by\",\"subject\":\"Data Streaming\",\"use\":\"Validation test\",\"correct\":\"\",\"responseA\":\"A time limit\",\"responseB\":\"A space limit\",\"responseC\":\"A randomly determined limit\",\"remark\":\"\"},{\"question\":\"In HBase, data is stored by\",\"subject\":\"Data Streaming\",\"use\":\"Validation test\",\"correct\":\"\",\"responseA\":\"Lines\",\"responseB\":\"Column families\",\"responseC\":\"Keys\",\"remark\":\"\"}]}"
     ]
    }
   ],
   "source": [
    "!curl -X GET \"http://127.0.0.1:8000/questions/Validation%20test\""
   ]
  },
  {
   "cell_type": "code",
   "execution_count": 30,
   "metadata": {},
   "outputs": [
    {
     "name": "stdout",
     "output_type": "stream",
     "text": [
      "{\"subject\":[\"Databases\",\"Distributed systems\",\"Data Streaming\",\"Docker\",\"Classification\",\"data science\",\"machine-learning\",\"Automation\"]}"
     ]
    }
   ],
   "source": [
    "! curl -X GET \"http://127.0.0.1:8000/questions/subject\""
   ]
  },
  {
   "cell_type": "code",
   "execution_count": null,
   "metadata": {},
   "outputs": [],
   "source": []
  },
  {
   "cell_type": "code",
   "execution_count": null,
   "metadata": {},
   "outputs": [],
   "source": []
  },
  {
   "cell_type": "code",
   "execution_count": null,
   "metadata": {},
   "outputs": [],
   "source": []
  },
  {
   "cell_type": "code",
   "execution_count": null,
   "metadata": {},
   "outputs": [],
   "source": []
  }
 ],
 "metadata": {
  "kernelspec": {
   "display_name": "fast",
   "language": "python",
   "name": "python3"
  },
  "language_info": {
   "codemirror_mode": {
    "name": "ipython",
    "version": 3
   },
   "file_extension": ".py",
   "mimetype": "text/x-python",
   "name": "python",
   "nbconvert_exporter": "python",
   "pygments_lexer": "ipython3",
   "version": "3.10.16"
  }
 },
 "nbformat": 4,
 "nbformat_minor": 2
}
