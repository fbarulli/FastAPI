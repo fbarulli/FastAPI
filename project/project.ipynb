{
 "cells": [
  {
   "cell_type": "code",
   "execution_count": 3,
   "metadata": {},
   "outputs": [],
   "source": [
    "import pandas as pd"
   ]
  },
  {
   "cell_type": "code",
   "execution_count": 5,
   "metadata": {},
   "outputs": [
    {
     "name": "stdout",
     "output_type": "stream",
     "text": [
      "--2025-03-16 18:40:23--  https://dst-de.s3.eu-west-3.amazonaws.com/fastapi_en/questions_en.xlsx\n",
      "Resolving dst-de.s3.eu-west-3.amazonaws.com (dst-de.s3.eu-west-3.amazonaws.com)... 3.5.226.101, 3.5.226.172\n",
      "Connecting to dst-de.s3.eu-west-3.amazonaws.com (dst-de.s3.eu-west-3.amazonaws.com)|3.5.226.101|:443... connected.\n",
      "HTTP request sent, awaiting response... 200 OK\n",
      "Length: 11954 (12K) [application/vnd.openxmlformats-officedocument.spreadsheetml.sheet]\n",
      "Saving to: ‘questions_en.xlsx’\n",
      "\n",
      "questions_en.xlsx   100%[===================>]  11.67K  --.-KB/s    in 0s      \n",
      "\n",
      "2025-03-16 18:40:23 (93.6 MB/s) - ‘questions_en.xlsx’ saved [11954/11954]\n",
      "\n"
     ]
    }
   ],
   "source": [
    "!wget https://dst-de.s3.eu-west-3.amazonaws.com/fastapi_en/questions_en.xlsx                                                                   \n"
   ]
  },
  {
   "cell_type": "code",
   "execution_count": 8,
   "metadata": {},
   "outputs": [
    {
     "name": "stdout",
     "output_type": "stream",
     "text": [
      "Collecting openpyxl\n",
      "  Downloading openpyxl-3.1.5-py2.py3-none-any.whl.metadata (2.5 kB)\n",
      "Collecting et-xmlfile (from openpyxl)\n",
      "  Downloading et_xmlfile-2.0.0-py3-none-any.whl.metadata (2.7 kB)\n",
      "Downloading openpyxl-3.1.5-py2.py3-none-any.whl (250 kB)\n",
      "Downloading et_xmlfile-2.0.0-py3-none-any.whl (18 kB)\n",
      "Installing collected packages: et-xmlfile, openpyxl\n",
      "Successfully installed et-xmlfile-2.0.0 openpyxl-3.1.5\n",
      "Note: you may need to restart the kernel to use updated packages.\n"
     ]
    }
   ],
   "source": [
    "%pip install openpyxl"
   ]
  },
  {
   "cell_type": "code",
   "execution_count": null,
   "metadata": {},
   "outputs": [
    {
     "data": {
      "text/html": [
       "<div>\n",
       "<style scoped>\n",
       "    .dataframe tbody tr th:only-of-type {\n",
       "        vertical-align: middle;\n",
       "    }\n",
       "\n",
       "    .dataframe tbody tr th {\n",
       "        vertical-align: top;\n",
       "    }\n",
       "\n",
       "    .dataframe thead th {\n",
       "        text-align: right;\n",
       "    }\n",
       "</style>\n",
       "<table border=\"1\" class=\"dataframe\">\n",
       "  <thead>\n",
       "    <tr style=\"text-align: right;\">\n",
       "      <th></th>\n",
       "      <th>question</th>\n",
       "      <th>subject</th>\n",
       "      <th>use</th>\n",
       "      <th>correct</th>\n",
       "      <th>responseA</th>\n",
       "      <th>responseB</th>\n",
       "      <th>responseC</th>\n",
       "      <th>responseD</th>\n",
       "      <th>remark</th>\n",
       "    </tr>\n",
       "  </thead>\n",
       "  <tbody>\n",
       "    <tr>\n",
       "      <th>0</th>\n",
       "      <td>What does No-SQL stand for?</td>\n",
       "      <td>Databases</td>\n",
       "      <td>Positioning test</td>\n",
       "      <td>A</td>\n",
       "      <td>Not OnlySQL</td>\n",
       "      <td>NoSQL</td>\n",
       "      <td>Not all SQL</td>\n",
       "      <td>NaN</td>\n",
       "      <td>NaN</td>\n",
       "    </tr>\n",
       "    <tr>\n",
       "      <th>1</th>\n",
       "      <td>Cassandra and HBase are databases</td>\n",
       "      <td>Databases</td>\n",
       "      <td>Positioning test</td>\n",
       "      <td>C</td>\n",
       "      <td>relational database</td>\n",
       "      <td>object-oriented</td>\n",
       "      <td>column-oriented</td>\n",
       "      <td>graph-oriented</td>\n",
       "      <td>NaN</td>\n",
       "    </tr>\n",
       "    <tr>\n",
       "      <th>2</th>\n",
       "      <td>MongoDB and CouchDB are databases</td>\n",
       "      <td>Databases</td>\n",
       "      <td>Positioning test</td>\n",
       "      <td>B</td>\n",
       "      <td>relational database</td>\n",
       "      <td>object-oriented</td>\n",
       "      <td>column-oriented</td>\n",
       "      <td>graph-oriented</td>\n",
       "      <td>NaN</td>\n",
       "    </tr>\n",
       "    <tr>\n",
       "      <th>3</th>\n",
       "      <td>OrientDB and Neo4J are databases</td>\n",
       "      <td>Databases</td>\n",
       "      <td>Positioning test</td>\n",
       "      <td>D</td>\n",
       "      <td>relational database</td>\n",
       "      <td>object-oriented</td>\n",
       "      <td>column-oriented</td>\n",
       "      <td>graph-oriented</td>\n",
       "      <td>NaN</td>\n",
       "    </tr>\n",
       "    <tr>\n",
       "      <th>4</th>\n",
       "      <td>To index textual data, I can use</td>\n",
       "      <td>Databases</td>\n",
       "      <td>Positioning test</td>\n",
       "      <td>A</td>\n",
       "      <td>ElasticSearch</td>\n",
       "      <td>Neo4J</td>\n",
       "      <td>mysql</td>\n",
       "      <td>NaN</td>\n",
       "      <td>NaN</td>\n",
       "    </tr>\n",
       "  </tbody>\n",
       "</table>\n",
       "</div>"
      ],
      "text/plain": [
       "                            question    subject               use correct  \\\n",
       "0        What does No-SQL stand for?  Databases  Positioning test       A   \n",
       "1  Cassandra and HBase are databases  Databases  Positioning test       C   \n",
       "2  MongoDB and CouchDB are databases  Databases  Positioning test       B   \n",
       "3   OrientDB and Neo4J are databases  Databases  Positioning test       D   \n",
       "4   To index textual data, I can use  Databases  Positioning test       A   \n",
       "\n",
       "             responseA        responseB        responseC       responseD  \\\n",
       "0          Not OnlySQL            NoSQL      Not all SQL             NaN   \n",
       "1  relational database  object-oriented  column-oriented  graph-oriented   \n",
       "2  relational database  object-oriented  column-oriented  graph-oriented   \n",
       "3  relational database  object-oriented  column-oriented  graph-oriented   \n",
       "4        ElasticSearch            Neo4J            mysql             NaN   \n",
       "\n",
       "  remark  \n",
       "0    NaN  \n",
       "1    NaN  \n",
       "2    NaN  \n",
       "3    NaN  \n",
       "4    NaN  "
      ]
     },
     "execution_count": 9,
     "metadata": {},
     "output_type": "execute_result"
    }
   ],
   "source": [
    "df = pd.read_excel('questions_en.xlsx') #type: ignore\n",
    "df.head()\n"
   ]
  },
  {
   "cell_type": "code",
   "execution_count": null,
   "metadata": {},
   "outputs": [],
   "source": []
  }
 ],
 "metadata": {
  "kernelspec": {
   "display_name": "fast",
   "language": "python",
   "name": "python3"
  },
  "language_info": {
   "codemirror_mode": {
    "name": "ipython",
    "version": 3
   },
   "file_extension": ".py",
   "mimetype": "text/x-python",
   "name": "python",
   "nbconvert_exporter": "python",
   "pygments_lexer": "ipython3",
   "version": "3.10.16"
  }
 },
 "nbformat": 4,
 "nbformat_minor": 2
}
