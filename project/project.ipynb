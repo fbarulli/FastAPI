{
 "cells": [
  {
   "cell_type": "code",
   "execution_count": 13,
   "metadata": {},
   "outputs": [],
   "source": [
    "from data.data import questions"
   ]
  },
  {
   "cell_type": "code",
   "execution_count": null,
   "metadata": {},
   "outputs": [
    {
     "data": {
      "text/plain": [
       "list"
      ]
     },
     "execution_count": 17,
     "metadata": {},
     "output_type": "execute_result"
    }
   ],
   "source": [
    "questions"
   ]
  },
  {
   "cell_type": "code",
   "execution_count": 11,
   "metadata": {},
   "outputs": [
    {
     "data": {
      "text/plain": [
       "[Question(question='What does No-SQL stand for?', subject='Databases', use='Positioning test', correct='A', responseA='Not OnlySQL', responseB='NoSQL', responseC='Not all SQL', remark=''),\n",
       " Question(question='Cassandra and HBase are databases', subject='Databases', use='Positioning test', correct='C', responseA='relational database', responseB='object-oriented', responseC='column-oriented', remark=''),\n",
       " Question(question='MongoDB and CouchDB are databases', subject='Databases', use='Positioning test', correct='B', responseA='relational database', responseB='object-oriented', responseC='column-oriented', remark=''),\n",
       " Question(question='OrientDB and Neo4J are databases', subject='Databases', use='Positioning test', correct='D', responseA='relational database', responseB='object-oriented', responseC='column-oriented', remark=''),\n",
       " Question(question='To index textual data, I can use', subject='Databases', use='Positioning test', correct='A', responseA='ElasticSearch', responseB='Neo4J', responseC='mysql', remark=''),\n",
       " Question(question='What to pay attention to when choosing a database system?', subject='Databases', use='Positioning test', correct='D', responseA='Definition of a scheme', responseB='Speed \\u200b\\u200bof reading/writing', responseC='Differentiation of accesses', remark=''),\n",
       " Question(question='What are the three building blocks of Hadoop?', subject='Distributed systems', use='Positioning test', correct='A', responseA='HDFS, YARN and Haddoop MapReduce', responseB='Hive, LOL and Spark', responseC='Spark, Hadoop MapReduce and Hive', remark=''),\n",
       " Question(question='During the Map step of a wordcount applied to the sentence \"this sentence is a sentence\", the values \\u200b\\u200bemitted are:', subject='Distributed systems', use='Positioning test', correct='B', responseA='1, 2, 1, 1', responseB='1, 1, 1, 1, 1, 1', responseC='5, 0, 0, 0, 0', remark=''),\n",
       " Question(question='In Hadoop, combiners allow', subject='Distributed systems', use='Positioning test', correct='C', responseA='combine inputs and outputs', responseB='to better distribute the load during the Shuffle phase', responseC='to limit the number of values \\u200b\\u200bemitted during the Reduce step', remark=''),\n",
       " Question(question='In Hadoop, partitioners allow', subject='Distributed systems', use='Positioning test', correct='B', responseA='combine inputs and outputs', responseB='to better distribute the load during the Shuffle phase', responseC='limit the number of values \\u200b\\u200bemitted during the Reduce step', remark=''),\n",
       " Question(question='The CAP theorem opposes', subject='Distributed systems', use='Positioning test', correct='B', responseA='Capacity, Speed, Distribution', responseB='Availability, Consistency, Distribution', responseC='Consistency, Adaptability, Power', remark=''),\n",
       " Question(question='Hive allows', subject='Distributed systems', use='Positioning test', correct='A', responseA='to abstract a relational database', responseB='to classify the documents in order of importance', responseC='orchestrate machine clusters', remark=''),\n",
       " Question(question='Spark differs from Hadoop by', subject='Distributed systems', use='Positioning test', correct='D', responseA='its lack of a storage system', responseB='its many libraries including Machine Learning', responseC='writing to memory rather than to disk during the Shuffle phase', remark=''),\n",
       " Question(question='An asynchronous messaging system makes it possible to decorrelate consumers and producers', subject='Data Streaming', use='Positioning test', correct='A', responseA='True', responseB='False', responseC='', remark=''),\n",
       " Question(question='Kafka is messaging system', subject='Data Streaming', use='Positioning test', correct='D', responseA='distributed', responseB='asynchronous', responseC='publish/subscribe', remark=''),\n",
       " Question(question='The lambda architecture presents the layers', subject='Data Streaming', use='Positioning test', correct='D', responseA='batch', responseB='real time', responseC='service', remark=''),\n",
       " Question(question='Docker is used', subject='Docker', use='Positioning test', correct='A', responseA='to develop quickly and put into production easily', responseB='to improve the capabilities of a database', responseC='to improve computing power', remark=''),\n",
       " Question(question='Docker allows persisting changes', subject='Docker', use='Positioning test', correct='C', responseA='Yes', responseB='No', responseC='Yes provided you use volumes', remark=''),\n",
       " Question(question='Docker containers can communicate with each other using', subject='Docker', use='Positioning test', correct='B', responseA='volumes', responseB='networks', responseC='communications', remark=''),\n",
       " Question(question='DockerHub is', subject='Docker', use='Positioning test', correct='C', responseA='a system that allows you to launch several containers at once', responseB='a container orchestration system', responseC='a Docker image directory', remark=''),\n",
       " Question(question='Docker-compose is', subject='Docker', use='Positioning test', correct='A', responseA='a system that allows you to launch several containers at once', responseB='a container orchestration system', responseC='a Docker image directory', remark='')]"
      ]
     },
     "execution_count": 11,
     "metadata": {},
     "output_type": "execute_result"
    }
   ],
   "source": [
    "[q for q in questions if q.use == 'Positioning test']"
   ]
  },
  {
   "cell_type": "code",
   "execution_count": 12,
   "metadata": {},
   "outputs": [
    {
     "name": "stdout",
     "output_type": "stream",
     "text": [
      "{\"detail\":[{\"type\":\"missing\",\"loc\":[\"query\",\"args\"],\"msg\":\"Field required\",\"input\":null},{\"type\":\"missing\",\"loc\":[\"query\",\"kwargs\"],\"msg\":\"Field required\",\"input\":null}]}"
     ]
    }
   ],
   "source": [
    "!curl -X GET \"http://127.0.0.1:8000/questions\""
   ]
  },
  {
   "cell_type": "code",
   "execution_count": 18,
   "metadata": {},
   "outputs": [
    {
     "name": "stdout",
     "output_type": "stream",
     "text": [
      "Unique uses: {'Validation test', 'Total Boot Camp', 'Positioning test'}\n"
     ]
    }
   ],
   "source": [
    "unique_uses = set(q.use for q in questions)\n",
    "print(\"Unique uses:\", unique_uses)"
   ]
  },
  {
   "cell_type": "code",
   "execution_count": 19,
   "metadata": {},
   "outputs": [
    {
     "name": "stdout",
     "output_type": "stream",
     "text": [
      "{\"detail\":[{\"type\":\"missing\",\"loc\":[\"query\",\"args\"],\"msg\":\"Field required\",\"input\":null},{\"type\":\"missing\",\"loc\":[\"query\",\"kwargs\"],\"msg\":\"Field required\",\"input\":null}]}"
     ]
    }
   ],
   "source": [
    "!curl -X GET \"http://127.0.0.1:8000/questions/use\""
   ]
  },
  {
   "cell_type": "code",
   "execution_count": null,
   "metadata": {},
   "outputs": [],
   "source": []
  }
 ],
 "metadata": {
  "kernelspec": {
   "display_name": "fast",
   "language": "python",
   "name": "python3"
  },
  "language_info": {
   "codemirror_mode": {
    "name": "ipython",
    "version": 3
   },
   "file_extension": ".py",
   "mimetype": "text/x-python",
   "name": "python",
   "nbconvert_exporter": "python",
   "pygments_lexer": "ipython3",
   "version": "3.10.16"
  }
 },
 "nbformat": 4,
 "nbformat_minor": 2
}
